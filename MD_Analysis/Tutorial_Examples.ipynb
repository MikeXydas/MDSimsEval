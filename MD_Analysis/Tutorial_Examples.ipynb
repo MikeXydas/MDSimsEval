{
 "cells": [
  {
   "cell_type": "markdown",
   "metadata": {},
   "source": [
    "# MD Analysis package testing\n",
    "\n",
    "Source: https://github.com/MDAnalysis/mdanalysis  \n",
    "Tutorial: https://www.mdanalysis.org/MDAnalysisTutorial/  \n",
    "Example Notebooks: https://nbviewer.jupyter.org/github/MDAnalysis/binder-notebook/tree/master/notebooks/  \n",
    "Documentation: https://www.mdanalysis.org/docs/  "
   ]
  },
  {
   "cell_type": "markdown",
   "metadata": {},
   "source": [
    "## Basic Example"
   ]
  },
  {
   "cell_type": "code",
   "execution_count": null,
   "metadata": {},
   "outputs": [],
   "source": [
    "import MDAnalysis\n",
    "from MDAnalysis.tests.datafiles import PSF, DCD   # test trajectory\n",
    "import numpy.linalg\n",
    "\n",
    "u = MDAnalysis.Universe(PSF,DCD)  # always start with a Universe\n",
    "# can access via segid (4AKE) and atom name\n",
    "# we take the first atom named N and the last atom named C\n",
    "nterm = u.select_atoms('segid 4AKE and name N')[0]\n",
    "cterm = u.select_atoms('segid 4AKE and name C')[-1]\n",
    "\n",
    "bb = u.select_atoms('protein and backbone')  # a selection (AtomGroup)\n",
    "\n",
    "for ts in u.trajectory:     # iterate through all frames\n",
    "    r = cterm.position - nterm.position # end-to-end vector from atom positions\n",
    "    d = numpy.linalg.norm(r)  # end-to-end distance\n",
    "    rgyr = bb.radius_of_gyration()  # method of AtomGroup\n",
    "    print(\"frame = {0}: d = {1} A, Rgyr = {2} A\".format(\n",
    "          ts.frame, d, rgyr))"
   ]
  },
  {
   "cell_type": "markdown",
   "metadata": {},
   "source": [
    "## Testing package version"
   ]
  },
  {
   "cell_type": "code",
   "execution_count": 1,
   "metadata": {},
   "outputs": [
    {
     "name": "stdout",
     "output_type": "stream",
     "text": [
      "<Universe with 3341 atoms>\n",
      "0.20.1\n"
     ]
    }
   ],
   "source": [
    "import MDAnalysis\n",
    "from MDAnalysis.tests.datafiles import PSF, DCD\n",
    "\n",
    "print(MDAnalysis.Universe(PSF, DCD))\n",
    "print(MDAnalysis.__version__)"
   ]
  },
  {
   "cell_type": "markdown",
   "metadata": {},
   "source": [
    "## Universe and AtomGroup\n",
    "  \n",
    "### Creating an AtomGroup"
   ]
  },
  {
   "cell_type": "code",
   "execution_count": 2,
   "metadata": {},
   "outputs": [
    {
     "name": "stdout",
     "output_type": "stream",
     "text": [
      "<Universe with 3341 atoms>\n"
     ]
    },
    {
     "data": {
      "text/plain": [
       "[<Atom 1: N of type 56 of resname MET, resid 1 and segid 4AKE>,\n",
       " <Atom 2: HT1 of type 2 of resname MET, resid 1 and segid 4AKE>,\n",
       " <Atom 3: HT2 of type 2 of resname MET, resid 1 and segid 4AKE>,\n",
       " <Atom 4: HT3 of type 2 of resname MET, resid 1 and segid 4AKE>]"
      ]
     },
     "execution_count": 2,
     "metadata": {},
     "output_type": "execute_result"
    }
   ],
   "source": [
    "u = MDAnalysis.Universe(PSF, DCD) # PSF is topology file, DCD is trajectory file\n",
    "print(u)\n",
    "list(u.atoms[:4])"
   ]
  },
  {
   "cell_type": "markdown",
   "metadata": {},
   "source": [
    "### Selections (applied on Universe u and any AtomGroup)\n",
    "  \n",
    "More: https://www.mdanalysis.org/docs/documentation_pages/selections.html"
   ]
  },
  {
   "cell_type": "code",
   "execution_count": null,
   "metadata": {},
   "outputs": [],
   "source": [
    "CA = u.select_atoms(\"protein and name CA\")\n",
    "print(list(CA[:5]))"
   ]
  },
  {
   "cell_type": "code",
   "execution_count": null,
   "metadata": {},
   "outputs": [],
   "source": [
    "acidic = CA.select_atoms(\"resname ASP or resname GLU\")\n",
    "print(list(acidic.residues[:5]))"
   ]
  },
  {
   "cell_type": "code",
   "execution_count": null,
   "metadata": {},
   "outputs": [],
   "source": [
    "u.select_atoms(\"resid 100-200\")"
   ]
  },
  {
   "cell_type": "markdown",
   "metadata": {},
   "source": [
    "### Trajectory Analysis"
   ]
  },
  {
   "cell_type": "code",
   "execution_count": null,
   "metadata": {},
   "outputs": [],
   "source": [
    "len(u.trajectory) # Length of a trajectory (frames)o"
   ]
  },
  {
   "cell_type": "code",
   "execution_count": null,
   "metadata": {},
   "outputs": [],
   "source": [
    "# Iterating through the trajectory\n",
    "for ts in u.trajectory:\n",
    "    print(\"Frame: {0:5d}, Time: {1:8.3f} ps\".format(ts.frame, u.trajectory.time))\n",
    "    print(\"Rgyr: {0:g} A\".format(u.atoms.radius_of_gyration()))"
   ]
  },
  {
   "cell_type": "code",
   "execution_count": 8,
   "metadata": {},
   "outputs": [
    {
     "data": {
      "image/png": "[encoded data removed]",
      "text/plain": [
       "<Figure size 432x288 with 1 Axes>"
      ]
     },
     "metadata": {
      "needs_background": "light"
     },
     "output_type": "display_data"
    }
   ],
   "source": [
    "%matplotlib inline\n",
    "\n",
    "# Plotting radius of gyration\n",
    "\n",
    "import numpy as np\n",
    "\n",
    "Rgyr = []\n",
    "protein = u.select_atoms(\"protein\")\n",
    "for ts in u.trajectory:\n",
    "   Rgyr.append((u.trajectory.time, protein.radius_of_gyration()))\n",
    "Rgyr = np.array(Rgyr)\n",
    "\n",
    "import matplotlib.pyplot as plt\n",
    "ax = plt.subplot(111)\n",
    "ax.plot(Rgyr[:,0], Rgyr[:,1], 'r--', lw=2, label=r\"$R_G$\")\n",
    "ax.set_xlabel(\"time (ps)\")\n",
    "ax.set_ylabel(r\"radius of gyration $R_G$ ($\\AA$)\")\n",
    "plt.show()"
   ]
  },
  {
   "cell_type": "code",
   "execution_count": null,
   "metadata": {},
   "outputs": [],
   "source": [
    "%matplotlib inline\n",
    "\n",
    "from numpy.linalg import norm\n",
    "\n",
    "def theta_NMP(u):\n",
    "    \"\"\"Calculate the NMP-CORE angle for E. coli AdK in degrees\"\"\"\n",
    "    C = u.select_atoms(\"resid 115-125 and (backbone or name CB)\").center_of_geometry()\n",
    "    B = u.select_atoms(\"resid 90-100 and (backbone or name CB)\").center_of_geometry()\n",
    "    A = u.select_atoms(\"resid 35-55 and (backbone or name CB)\").center_of_geometry()\n",
    "    BA = A - B\n",
    "    BC = C - B\n",
    "    theta = np.arccos(np.dot(BA, BC)/(norm(BA)*norm(BC)))\n",
    "    return np.rad2deg(theta)\n",
    "\n",
    "def theta_LID(u):\n",
    "    \"\"\"Calculate the LID-CORE angle for E. coli AdK in degrees\"\"\"\n",
    "    C = u.select_atoms(\"resid 179-185 and (backbone or name CB)\").center_of_geometry()\n",
    "    B = u.select_atoms(\"resid 115-125 and (backbone or name CB)\").center_of_geometry()\n",
    "    A = u.select_atoms(\"resid 125-153 and (backbone or name CB)\").center_of_geometry()\n",
    "    BA = A - B\n",
    "    BC = C - B\n",
    "    theta = np.arccos(np.dot(BA, BC)/(norm(BA)*norm(BC)))\n",
    "    return np.rad2deg(theta)\n",
    "\n"
   ]
  }
 ],
 "metadata": {
  "kernelspec": {
   "display_name": "Python 3",
   "language": "python",
   "name": "python3"
  },
  "language_info": {
   "codemirror_mode": {
    "name": "ipython",
    "version": 3
   },
   "file_extension": ".py",
   "mimetype": "text/x-python",
   "name": "python",
   "nbconvert_exporter": "python",
   "pygments_lexer": "ipython3",
   "version": "3.6.9"
  }
 },
 "nbformat": 4,
 "nbformat_minor": 4
}
