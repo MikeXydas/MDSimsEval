{
 "cells": [
  {
   "cell_type": "markdown",
   "metadata": {},
   "source": [
    "# Analysis Pipeline\n",
    "\n",
    "In this notebook I created a valid pipeline that inputs topology and trajectory files and aims to output useful metrics and plots that will help us capture a differentiating signal **between agonists and antagonists**.\n",
    "\n",
    "The flow in general is:\n",
    "\n",
    "1. **Input**: A directory of 2 subdirectories (agonists and antagonists)\n",
    "2. Read the files (currently using [MDAnalysis](https://www.mdanalysis.org/))\n",
    "3. Apply methods and measurements (Radius of Gyration, RMSD, RMSF, SASA, PCA)\n",
    "4. **Output**: Metrics, plots and conclusions"
   ]
  },
  {
   "cell_type": "code",
   "execution_count": 2,
   "metadata": {},
   "outputs": [],
   "source": [
    "import MDAnalysis\n",
    "\n",
    "import numpy as np\n",
    "import pandas as pd\n",
    "import matplotlib.pyplot as plt\n",
    "\n",
    "from MDAnalysis.analysis.rms import RMSF\n",
    "import MDAnalysis.analysis.pca as pca\n",
    "\n",
    "import re\n",
    "import os\n",
    "import logging\n",
    "from tqdm import tqdm"
   ]
  },
  {
   "cell_type": "markdown",
   "metadata": {},
   "source": [
    "## The AnalysisActor class\n",
    "\n",
    "The class will be responsible for reading, running analysis methods and storing the results.\n",
    "Explanation of the metrics, useful plots and conclusion can be found on later stages of the notebook."
   ]
  },
  {
   "cell_type": "code",
   "execution_count": 3,
   "metadata": {},
   "outputs": [],
   "source": [
    "class AnalysisActor:\n",
    "    '''\n",
    "    The AnalysisActor object inputs a single topology and trajectory and performs the analysis\n",
    "    A full list of input formats: https://www.mdanalysis.org/docs/documentation_pages/coordinates/init.html#supported-coordinate-formats\n",
    "    \n",
    "    Args:\n",
    "        topology (str): The topology file (.pdb, .gro etc)\n",
    "        trajectory (str): The trajectory file (.xtc etx)\n",
    "        \n",
    "    Attributes:\n",
    "        uni: The universe of atoms created by MDAnalysis tool\n",
    "        name (str): The simulation name (extracted by the topology file)\n",
    "        rg_list (List[double]): Radius of gyration of each frame\n",
    "        rmsf_res (List[double]): RMSF of each residue\n",
    "        pca_res (Object: MDAnalysis.analysis.pca.PCA): Object containing eigenvectors and eigenvalues of Cov Matrix\n",
    "    '''\n",
    "    \n",
    "    def __init__(self, topology, trajectory, sim_name):\n",
    "        self.uni = MDAnalysis.Universe(topology, trajectory)\n",
    "        self.name = sim_name\n",
    "        self.rg_list = []\n",
    "        self.rmsf_res = None\n",
    "        self.pca_res = None\n",
    "        \n",
    "        \n",
    "    def info():\n",
    "        ''' Prints basic info of the universe of atoms '''\n",
    "        print(f'\\n<<< Info of {self.name} >>>')\n",
    "        print(f'\\tNumber of Frames: {len(self.unitrajectory)}')\n",
    "        print(f'\\tNumber of Atoms: {len(self.uni.atoms)}')\n",
    "        print(f'\\tNumber of Residues: {len(self.uni.residues)}')\n",
    "    \n",
    "    \n",
    "    def perform_analysis(self, metrics=[]):\n",
    "        '''\n",
    "        Runs the analysis methods for calculating the metrics specified by metrics argument\n",
    "        \n",
    "        Args:\n",
    "            metrics (List[str]): A list of the metrics to be calculated. Available:\n",
    "                                 Empty List []: All of the available metrics\n",
    "                                 'Rg': Radius of Gyration\n",
    "                                 'RMSF': Root Mean Square Fluctuations\n",
    "                                 'SASA': Solven Accesible Surface Area\n",
    "                                 'PCA': Principal Component Analysis\n",
    "        '''\n",
    "        \n",
    "        # Calculate Radius of Gyration as time progresses\n",
    "        if \"Rg\" in metrics or len(metrics) == 0:\n",
    "            for frame in self.uni.trajectory:\n",
    "                self.rg_list.append(self.uni.atoms.radius_of_gyration())\n",
    "                \n",
    "        # Calculate Solvent Accesible Surface Area \n",
    "#         if \"SASA\" in metrics or len(metrics) == 0:\n",
    "#             logging.warning(\"SASA NOT IMPLEMENTED\")\n",
    "            \n",
    "        # Calculate Root Mean Square Fluctuation\n",
    "        if \"RMSF\" in metrics or len(metrics) == 0:\n",
    "            # TODO: Look more into alignemnt step\n",
    "            rmsf_res = RMSF(self.uni.atoms).run()\n",
    "\n",
    "        # Perform PCA on the CA atoms\n",
    "        if \"PCA\" in metrics or len(metrics) == 0:\n",
    "            self.pca_res = pca.PCA(self.uni, select='name CA')\n",
    "            self.pca_res.run()\n",
    "        "
   ]
  },
  {
   "cell_type": "markdown",
   "metadata": {},
   "source": [
    "## Reading the trajectories\n",
    "\n",
    "Emphasis must be given on reading the trajectory files in an organized and optimal way.\n",
    "The current approach is:\n",
    "\n",
    "1. Input: path wich points to a directory that contains to subdirectories with names **\"agonists\", \"antagonists\"**\n",
    "2. Extract the filepaths\n",
    "3. Create the dictionary:\n",
    "```python \n",
    "{\n",
    "    \"agonists\": List[AnalysisActor.class]\n",
    "    \"agonists\": List[AnalysisActor.class]\n",
    "}\n",
    "```\n",
    "   \n",
    "**The trajectory and topology file are expected to have a file ending of .xtc and .pdb respectively,\n",
    "although we can easily expend it to more formats**\n"
   ]
  },
  {
   "cell_type": "code",
   "execution_count": 4,
   "metadata": {},
   "outputs": [
    {
     "name": "stderr",
     "output_type": "stream",
     "text": [
      "Agonists:   0%|          | 0/10 [00:00<?, ?it/s]/home/mikexydas/pythonEnvs/thesisEnv/lib/python3.6/site-packages/MDAnalysis/lib/mdamath.py:259: RuntimeWarning: invalid value encountered in double_scalars\n",
      "  alpha = np.rad2deg(np.arccos(np.dot(y, z) / (ly * lz)))\n",
      "/home/mikexydas/pythonEnvs/thesisEnv/lib/python3.6/site-packages/MDAnalysis/lib/mdamath.py:260: RuntimeWarning: invalid value encountered in double_scalars\n",
      "  beta = np.rad2deg(np.arccos(np.dot(x, z) / (lx * lz)))\n",
      "/home/mikexydas/pythonEnvs/thesisEnv/lib/python3.6/site-packages/MDAnalysis/lib/mdamath.py:261: RuntimeWarning: invalid value encountered in double_scalars\n",
      "  gamma = np.rad2deg(np.arccos(np.dot(x, y) / (lx * ly)))\n",
      "/home/mikexydas/pythonEnvs/thesisEnv/lib/python3.6/site-packages/MDAnalysis/lib/mdamath.py:264: RuntimeWarning: invalid value encountered in greater\n",
      "  if np.all(box > 0.0) and alpha < 180.0 and beta < 180.0 and gamma < 180.0:\n",
      "Agonists: 100%|██████████| 10/10 [00:00<00:00, 21.27it/s]\n",
      "Antagonists: 100%|██████████| 13/13 [00:00<00:00, 22.03it/s]\n"
     ]
    }
   ],
   "source": [
    "root_directory = '../datasets/New_AI_MD/'\n",
    "\n",
    "dir_list = os.listdir(root_directory)\n",
    "if 'Agonists' not in dir_list: logging.error('Agonists directory not found')\n",
    "if 'Antagonists' not in dir_list: logging.error('Antagonists directory not found')\n",
    "\n",
    "analysis_actors_dict = {\"Agonists\":[], \"Antagonists\":[]}\n",
    "\n",
    "# Iterating through the directories tree in order to fill the analysis_actors_dict\n",
    "# A warning is thrown when reading the Lorcaserin \n",
    "for which_dir in ['Agonists', 'Antagonists']:\n",
    "    simulations = os.listdir(root_directory + which_dir + '/')\n",
    "    for which_sim in tqdm(simulations, desc=which_dir):\n",
    "        files = os.listdir(root_directory + which_dir + '/' + which_sim + '/')\n",
    "        top = \"\"\n",
    "        traj = \"\"\n",
    "        for file in files:\n",
    "            if file[-4:] == \".xtc\":\n",
    "                traj = root_directory + which_dir + '/' + which_sim +'/' + file\n",
    "            elif file[-4:] == \".pdb\":\n",
    "                top = root_directory + which_dir + '/' + which_sim +'/' + file\n",
    "        if traj == \"\" or top == \"\":\n",
    "            logging.error(\"Failed to find topology or trajectory file in: \" + root_directory + which_dir + '/' + which_sim +'/' + file)\n",
    "        analysis_actors_dict[which_dir].append(AnalysisActor(top, traj, which_sim))\n",
    "            "
   ]
  },
  {
   "cell_type": "markdown",
   "metadata": {},
   "source": [
    "## Performing the Calculations\n",
    "\n",
    "Having read all of the trajectories and topology files we must calculate some features that will help us do our analysis.\n",
    "\n",
    "Currently the calculations include:\n",
    "* Radius of Gyration\n",
    "* RMSF\n",
    "* PCA"
   ]
  },
  {
   "cell_type": "code",
   "execution_count": null,
   "metadata": {},
   "outputs": [
    {
     "name": "stderr",
     "output_type": "stream",
     "text": [
      "Agonists Calculations:  40%|████      | 4/10 [01:12<01:50, 18.42s/it]"
     ]
    }
   ],
   "source": [
    "# The calculations are perfomed by calling the 'perform_analysis' method of our AnalysisActor objects\n",
    "\n",
    "# Agonists\n",
    "for which_actor in tqdm(analysis_actors_dict['Agonists'], desc=\"Agonists Calculations\"):\n",
    "    which_actor.perform_analysis()"
   ]
  }
 ],
 "metadata": {
  "kernelspec": {
   "display_name": "Python 3.6.9 64-bit ('thesisEnv': virtualenv)",
   "language": "python",
   "name": "python36964bitthesisenvvirtualenv849bc23effdd4f5cbcfcfcad50606969"
  },
  "language_info": {
   "codemirror_mode": {
    "name": "ipython",
    "version": 3
   },
   "file_extension": ".py",
   "mimetype": "text/x-python",
   "name": "python",
   "nbconvert_exporter": "python",
   "pygments_lexer": "ipython3",
   "version": "3.6.9"
  }
 },
 "nbformat": 4,
 "nbformat_minor": 4
}
