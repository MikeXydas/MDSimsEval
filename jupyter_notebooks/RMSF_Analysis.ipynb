{
 "cells": [
  {
   "cell_type": "markdown",
   "metadata": {},
   "source": [
    "Root Mean Square Flactuation (RMSF)\n",
    "\n",
    "RMSF is a measure of the deviation of the position of a particle i with respect to a reference position **over time**.\n",
    "\n",
    "**Difference between RMSD and RMSF**: The latter is averaged over time, giving a value for each particle i. For the RMSD the average is taken over the particles, giving time specific values. So **RMSD is time specific** and **RMSF is atom specific** [(ref)](http://www.drugdesign.gr/uploads/7/6/0/2/7602318/lecture_mdanalysis.pdf).\n",
    "\n",
    "\\begin{equation*}\n",
    "RMSF_i = \\left[ \\frac{1}{T} \\sum_{t_j=1}^T \\mid r_i(t_j) - r_i^\\text{ref} \\mid ^ 2 \\right] ^ \\frac{1}{2}\n",
    "\\end{equation*}\n",
    "\n",
    "$T$ is the total simulation time  \n",
    "$r_i^\\text{ref}$ is the reference position of particle $i$, eg. the **time-averaged** position of the same particle $i$  \n",
    "$\\mid r_i(t_j) - r_i^\\text{ref} \\mid$ is the Euclidean distance of particle $i$ on frame $j$ from $r_i^\\text{ref}$"
   ]
  },
  {
   "cell_type": "markdown",
   "metadata": {},
   "source": [
    "This time since our $x-axis$ are the residue ids, we will have a slightly different approach.\n",
    "Our $y-axis$ will have the RMSF value of the residues specified by the $x-axis$."
   ]
  },
  {
   "cell_type": "code",
   "execution_count": 3,
   "metadata": {
    "ExecuteTime": {
     "end_time": "2020-05-18T08:11:15.013295Z",
     "start_time": "2020-05-18T08:11:14.983510Z"
    }
   },
   "outputs": [],
   "source": [
    "import MDAnalysis\n",
    "from MDAnalysis.analysis.rms import RMSF\n",
    "from MDAnalysis.analysis import contacts\n",
    "from MDAnalysis.analysis.align import AlignTraj \n",
    "import MDAnalysis.analysis.pca as pca\n",
    "import MDAnalysis.analysis.distances as dist_analysis\n",
    "\n",
    "from MDSimsEval.AnalysisActorClass import AnalysisActor\n",
    "from MDSimsEval.utils import create_analysis_actor_dict\n",
    "import mdtraj as md_traj\n",
    "\n",
    "from sklearn.cluster import KMeans\n",
    "from sklearn.decomposition import PCA\n",
    "from sklearn.discriminant_analysis import LinearDiscriminantAnalysis\n",
    "from sklearn.linear_model import LinearRegression\n",
    "from sklearn.preprocessing import MinMaxScaler\n",
    "from scipy import stats\n",
    "\n",
    "import numpy as np\n",
    "import pandas as pd\n",
    "import matplotlib.pyplot as plt\n",
    "from matplotlib.gridspec import GridSpec\n",
    "import seaborn as sns\n",
    "import imgkit\n",
    "\n",
    "import re\n",
    "import os\n",
    "import subprocess\n",
    "import logging\n",
    "import math\n",
    "import itertools\n",
    "from operator import itemgetter\n",
    "\n",
    "from tqdm.notebook import tqdm\n",
    "from IPython.display import display"
   ]
  },
  {
   "cell_type": "code",
   "execution_count": 4,
   "metadata": {
    "ExecuteTime": {
     "end_time": "2020-05-18T08:19:05.318920Z",
     "start_time": "2020-05-18T08:15:58.687183Z"
    }
   },
   "outputs": [
    {
     "name": "stderr",
     "output_type": "stream",
     "text": [
      "Agonists | Lorcaserin:   7%|▋         | 1/15 [00:03<00:42,  3.05s/it]/home/mikexydas/pythonEnvs/thesisEnv/lib/python3.6/site-packages/MDAnalysis/lib/mdamath.py:259: RuntimeWarning: invalid value encountered in double_scalars\n",
      "  alpha = np.rad2deg(np.arccos(np.dot(y, z) / (ly * lz)))\n",
      "/home/mikexydas/pythonEnvs/thesisEnv/lib/python3.6/site-packages/MDAnalysis/lib/mdamath.py:260: RuntimeWarning: invalid value encountered in double_scalars\n",
      "  beta = np.rad2deg(np.arccos(np.dot(x, z) / (lx * lz)))\n",
      "/home/mikexydas/pythonEnvs/thesisEnv/lib/python3.6/site-packages/MDAnalysis/lib/mdamath.py:261: RuntimeWarning: invalid value encountered in double_scalars\n",
      "  gamma = np.rad2deg(np.arccos(np.dot(x, y) / (lx * ly)))\n",
      "/home/mikexydas/pythonEnvs/thesisEnv/lib/python3.6/site-packages/MDAnalysis/lib/mdamath.py:264: RuntimeWarning: invalid value encountered in greater\n",
      "  if np.all(box > 0.0) and alpha < 180.0 and beta < 180.0 and gamma < 180.0:\n",
      "Agonists | Donitriptan: 100%|██████████| 15/15 [00:59<00:00,  3.98s/it]  \n",
      "Antagonists | Ziprasione: 100%|██████████| 18/18 [02:06<00:00,  7.05s/it]   \n"
     ]
    }
   ],
   "source": [
    "analysis_actors_dict = create_analysis_actor_dict('../datasets/New_AI_MD/')\n",
    "\n",
    "# # Agonists\n",
    "# for which_ligand in tqdm(analysis_actors_dict['Agonists'], desc=\"Agonists Calculations\"):\n",
    "#     which_ligand.perform_analysis(metrics=[\"RMSF\"])\n",
    "    \n",
    "# # Antagonists\n",
    "# for which_ligand in tqdm(analysis_actors_dict['Antagonists'], desc=\"Antagonists Calculations\"):\n",
    "#     which_ligand.perform_analysis(metrics=[\"RMSF\"])"
   ]
  },
  {
   "cell_type": "markdown",
   "metadata": {},
   "source": [
    "## Residue Selection using Statistical Tests\n",
    "\n",
    "Our goal is to find the residues that differentiate the most agonists from antagonists. In this part of the notebook we will apply a statistical test between the agonists' RMSF's of a residue and the antagonists' RMSF's of the same residue. Then having a p-value threshold we will select some of these residues."
   ]
  },
  {
   "cell_type": "code",
   "execution_count": 91,
   "metadata": {
    "ExecuteTime": {
     "end_time": "2020-05-18T10:02:52.267257Z",
     "start_time": "2020-05-18T10:02:52.247493Z"
    }
   },
   "outputs": [],
   "source": [
    "from MDSimsEval.rmsf_analysis import get_avg_rmsf_per_residue\n",
    "from MDSimsEval.rmsf_analysis import reset_rmsf_calculations\n",
    "from scipy import stats\n",
    "\n",
    "def stat_test_residues(analysis_actors_dict, stat_test=stats.ttest_ind, threshold=0.05, start=-1, stop=-1):\n",
    "    \"\"\"\n",
    "    Finds the most differentiating residues based on a statistical test on their RMSF. If start==-1 and stop==-1\n",
    "    then we do not recalculate RMSF on the given window. \n",
    "    \n",
    "    | For example on the T-test we have:\n",
    "    | Null Hypothesis: The RMSFS of a specific residue have identical average (expected) values\n",
    "    \n",
    "    Args:\n",
    "        analysis_actors_dict: : ``{ \"Agonists\": List[AnalysisActor.class], \"Antagonists\": List[AnalysisActor.class] }``\n",
    "        stat_test (scipy.stats): A statistical test method with the interface of scipy.stats methods \n",
    "        threshold (float): The p-value threshold of the accepted and returned residues\n",
    "        start(int): The starting frame of the calculations\n",
    "        stop(int): The stopping frame of the calculations\n",
    "        \n",
    "    Returns:\n",
    "        A list of tuples of the residue ids (0-indexed) that had below the threshold p-value, the p_value.\n",
    "        Eg ``[(10, 0.03), (5, 0.042), ...]``\n",
    "        \n",
    "    \"\"\"\n",
    "    # Recalculate the RMSF calculations on the input window if we need a reset\n",
    "    if start != -1 and stop != -1:\n",
    "        reset_rmsf_calculations(analysis_actors_dict, start=start, stop=stop)\n",
    "    \n",
    "    stacked_agons_rmsf = np.array([get_avg_rmsf_per_residue(ligand) for ligand in analysis_actors_dict['Agonists']])\n",
    "    stacked_antagons_rmsf = np.array([get_avg_rmsf_per_residue(ligand) for ligand in analysis_actors_dict['Antagonists']])\n",
    "    \n",
    "    # Get the p_value of each residue\n",
    "    p_values = []\n",
    "    for agon_res_rmsf, antagon_res_rmsf in zip(stacked_agons_rmsf.T, stacked_antagons_rmsf.T):\n",
    "        p_values.append(stat_test(agon_res_rmsf,antagon_res_rmsf)[1])\n",
    "        \n",
    "    # Select the p_values that pass the threshold\n",
    "    enumed_pvalues = np.array(list(enumerate(p_values)))\n",
    "    enumed_pvalues = enumed_pvalues[enumed_pvalues[:, 1] <= threshold]\n",
    "    \n",
    "    # Transform the ndarray to a list of tuples\n",
    "    enumed_pvalues = [(int(pair[0]), pair[1]) for pair in enumed_pvalues]\n",
    "    \n",
    "    # Return in ascending order of p_values\n",
    "    return sorted(enumed_pvalues, key=lambda x: x[1])"
   ]
  },
  {
   "cell_type": "code",
   "execution_count": 106,
   "metadata": {
    "ExecuteTime": {
     "end_time": "2020-05-18T11:09:50.756349Z",
     "start_time": "2020-05-18T11:06:50.410693Z"
    }
   },
   "outputs": [
    {
     "name": "stderr",
     "output_type": "stream",
     "text": [
      "/home/mikexydas/pythonEnvs/thesisEnv/lib/python3.6/site-packages/MDAnalysis/lib/mdamath.py:259: RuntimeWarning: invalid value encountered in double_scalars\n",
      "  alpha = np.rad2deg(np.arccos(np.dot(y, z) / (ly * lz)))\n",
      "/home/mikexydas/pythonEnvs/thesisEnv/lib/python3.6/site-packages/MDAnalysis/lib/mdamath.py:260: RuntimeWarning: invalid value encountered in double_scalars\n",
      "  beta = np.rad2deg(np.arccos(np.dot(x, z) / (lx * lz)))\n",
      "/home/mikexydas/pythonEnvs/thesisEnv/lib/python3.6/site-packages/MDAnalysis/lib/mdamath.py:261: RuntimeWarning: invalid value encountered in double_scalars\n",
      "  gamma = np.rad2deg(np.arccos(np.dot(x, y) / (lx * ly)))\n",
      "/home/mikexydas/pythonEnvs/thesisEnv/lib/python3.6/site-packages/MDAnalysis/lib/mdamath.py:264: RuntimeWarning: invalid value encountered in greater\n",
      "  if np.all(box > 0.0) and alpha < 180.0 and beta < 180.0 and gamma < 180.0:\n"
     ]
    }
   ],
   "source": [
    "results = {}\n",
    "thresh=0.2\n",
    "def perform_3_tests(start, stop, threshold):\n",
    "    ret_vals = []\n",
    "    ret_vals.append(len(stat_test_residues(analysis_actors_dict, threshold=threshold, stat_test=stats.ttest_ind, start=start, stop=stop)))\n",
    "    ret_vals.append(len(stat_test_residues(analysis_actors_dict, threshold=threshold, stat_test=stats.ks_2samp)))\n",
    "    ret_vals.append(len(stat_test_residues(analysis_actors_dict, threshold=threshold, stat_test=stats.levene)))\n",
    "\n",
    "    return ret_vals\n",
    "\n",
    "results['0 - 2500'] = perform_3_tests(0, 2500, thresh)\n",
    "results['0 - 1250'] = perform_3_tests(0, 1250, thresh)\n",
    "results['1250 - 2500'] = perform_3_tests(1250, 2500, thresh)\n",
    "\n",
    "for start in np.arange(0, 2500, 500):\n",
    "    results[f'{start} - {start+500}'] = perform_3_tests(start, start+500, thresh)"
   ]
  },
  {
   "cell_type": "code",
   "execution_count": 107,
   "metadata": {
    "ExecuteTime": {
     "end_time": "2020-05-18T11:09:50.866699Z",
     "start_time": "2020-05-18T11:09:50.841314Z"
    }
   },
   "outputs": [
    {
     "data": {
      "text/html": [
       "<div>\n",
       "<style scoped>\n",
       "    .dataframe tbody tr th:only-of-type {\n",
       "        vertical-align: middle;\n",
       "    }\n",
       "\n",
       "    .dataframe tbody tr th {\n",
       "        vertical-align: top;\n",
       "    }\n",
       "\n",
       "    .dataframe thead th {\n",
       "        text-align: right;\n",
       "    }\n",
       "</style>\n",
       "<table border=\"1\" class=\"dataframe\">\n",
       "  <thead>\n",
       "    <tr style=\"text-align: right;\">\n",
       "      <th></th>\n",
       "      <th>T-test</th>\n",
       "      <th>Kolmogorov-Smirnov</th>\n",
       "      <th>Levene</th>\n",
       "    </tr>\n",
       "  </thead>\n",
       "  <tbody>\n",
       "    <tr>\n",
       "      <th>0 - 2500</th>\n",
       "      <td>2</td>\n",
       "      <td>10</td>\n",
       "      <td>6</td>\n",
       "    </tr>\n",
       "    <tr>\n",
       "      <th>0 - 1250</th>\n",
       "      <td>2</td>\n",
       "      <td>39</td>\n",
       "      <td>3</td>\n",
       "    </tr>\n",
       "    <tr>\n",
       "      <th>1250 - 2500</th>\n",
       "      <td>17</td>\n",
       "      <td>23</td>\n",
       "      <td>5</td>\n",
       "    </tr>\n",
       "    <tr>\n",
       "      <th>0 - 500</th>\n",
       "      <td>14</td>\n",
       "      <td>22</td>\n",
       "      <td>8</td>\n",
       "    </tr>\n",
       "    <tr>\n",
       "      <th>500 - 1000</th>\n",
       "      <td>2</td>\n",
       "      <td>18</td>\n",
       "      <td>9</td>\n",
       "    </tr>\n",
       "    <tr>\n",
       "      <th>1000 - 1500</th>\n",
       "      <td>2</td>\n",
       "      <td>19</td>\n",
       "      <td>4</td>\n",
       "    </tr>\n",
       "    <tr>\n",
       "      <th>1500 - 2000</th>\n",
       "      <td>7</td>\n",
       "      <td>20</td>\n",
       "      <td>3</td>\n",
       "    </tr>\n",
       "    <tr>\n",
       "      <th>2000 - 2500</th>\n",
       "      <td>152</td>\n",
       "      <td>73</td>\n",
       "      <td>107</td>\n",
       "    </tr>\n",
       "  </tbody>\n",
       "</table>\n",
       "</div>"
      ],
      "text/plain": [
       "             T-test  Kolmogorov-Smirnov  Levene\n",
       "0 - 2500          2                  10       6\n",
       "0 - 1250          2                  39       3\n",
       "1250 - 2500      17                  23       5\n",
       "0 - 500          14                  22       8\n",
       "500 - 1000        2                  18       9\n",
       "1000 - 1500       2                  19       4\n",
       "1500 - 2000       7                  20       3\n",
       "2000 - 2500     152                  73     107"
      ]
     },
     "metadata": {},
     "output_type": "display_data"
    }
   ],
   "source": [
    "df_tests = pd.DataFrame.from_dict(results, orient='index', columns=['T-test', 'Kolmogorov-Smirnov', 'Levene'])\n",
    "\n",
    "display(df_tests)"
   ]
  }
 ],
 "metadata": {
  "kernelspec": {
   "display_name": "Python 3.6.9 64-bit ('thesisEnv': virtualenv)",
   "language": "python",
   "name": "python36964bitthesisenvvirtualenv849bc23effdd4f5cbcfcfcad50606969"
  },
  "language_info": {
   "codemirror_mode": {
    "name": "ipython",
    "version": 3
   },
   "file_extension": ".py",
   "mimetype": "text/x-python",
   "name": "python",
   "nbconvert_exporter": "python",
   "pygments_lexer": "ipython3",
   "version": "3.6.9"
  },
  "toc": {
   "base_numbering": 1,
   "nav_menu": {},
   "number_sections": true,
   "sideBar": true,
   "skip_h1_title": true,
   "title_cell": "Table of Contents",
   "title_sidebar": "Contents",
   "toc_cell": false,
   "toc_position": {},
   "toc_section_display": true,
   "toc_window_display": false
  },
  "varInspector": {
   "cols": {
    "lenName": 16,
    "lenType": 16,
    "lenVar": 40
   },
   "kernels_config": {
    "python": {
     "delete_cmd_postfix": "",
     "delete_cmd_prefix": "del ",
     "library": "var_list.py",
     "varRefreshCmd": "print(var_dic_list())"
    },
    "r": {
     "delete_cmd_postfix": ") ",
     "delete_cmd_prefix": "rm(",
     "library": "var_list.r",
     "varRefreshCmd": "cat(var_dic_list()) "
    }
   },
   "types_to_exclude": [
    "module",
    "function",
    "builtin_function_or_method",
    "instance",
    "_Feature"
   ],
   "window_display": false
  }
 },
 "nbformat": 4,
 "nbformat_minor": 2
}
